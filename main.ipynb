{
 "cells": [
  {
   "cell_type": "markdown",
   "metadata": {},
   "source": [
    "## Perceptron and Adaline\n",
    "###\tPerceptron Convergence And Widrow-Hoff (LMS) Learning Algorithms"
   ]
  },
  {
   "cell_type": "markdown",
   "metadata": {},
   "source": [
    "### Import Statements"
   ]
  },
  {
   "cell_type": "code",
   "execution_count": 1,
   "metadata": {},
   "outputs": [],
   "source": [
    "import numpy as np\n",
    "import pandas as pd\n",
    "import matplotlib.pyplot as plt"
   ]
  },
  {
   "cell_type": "markdown",
   "metadata": {},
   "source": [
    "### Linear Combiner\n",
    "> calculate dot product of weight and input vector"
   ]
  },
  {
   "cell_type": "code",
   "execution_count": 2,
   "metadata": {},
   "outputs": [],
   "source": [
    "def combiner( inputs, weights):\n",
    "\treturn np.dot( weights.T, inputs)"
   ]
  },
  {
   "cell_type": "markdown",
   "metadata": {},
   "source": [
    "### The Hard Limit Transfer Function\n",
    "> if input is greater than or equal the threshold (zero) the output is 1 and 0 otherwise"
   ]
  },
  {
   "cell_type": "code",
   "execution_count": 3,
   "metadata": {},
   "outputs": [],
   "source": [
    "def hardlim( x):\n",
    "\treturn 1.0 if x >= 0.0 else 0.0"
   ]
  },
  {
   "cell_type": "markdown",
   "metadata": {},
   "source": [
    "### Output\n",
    "> Calculate output of Neuron given input and weight vector"
   ]
  },
  {
   "cell_type": "code",
   "execution_count": 4,
   "metadata": {},
   "outputs": [],
   "source": [
    "#\tcalculate response by applying hardlim function on linear combination of input and weight vector\n",
    "def output( inputs, weights):\n",
    "\tif inputs.ndim == 1:\n",
    "\t\t#\tsingle input vector\n",
    "\t\treturn hardlim( combiner( inputs, weights))\n",
    "\telse:\n",
    "\t\t#\tmultiple input vector\n",
    "\t\treturn np.array( [ hardlim( i) for i in combiner( inputs, weights)])"
   ]
  },
  {
   "cell_type": "markdown",
   "metadata": {},
   "source": [
    "### Preparing Input Vector\n",
    "> add bias input (1) to input features and transpose it to have input with shape (_n_features, _n_samples)"
   ]
  },
  {
   "cell_type": "code",
   "execution_count": 5,
   "metadata": {},
   "outputs": [],
   "source": [
    "def prepare( inputs):\n",
    "\t_n_samples = inputs.shape[ 0]\n",
    "\n",
    "\treturn np.concatenate( ( np.ones( ( _n_samples, 1)), inputs), axis=1).T"
   ]
  },
  {
   "cell_type": "markdown",
   "metadata": {},
   "source": [
    "###\tShuffle\n",
    "> shuffle patterns to create stochasity"
   ]
  },
  {
   "cell_type": "code",
   "execution_count": 6,
   "metadata": {},
   "outputs": [],
   "source": [
    "def shuffle( features, targets):\n",
    "\t#\tconcatenate features and target vectors together\n",
    "\tzipped = np.concatenate( ( features.T, targets.reshape( ( len( targets), 1))), axis=1)\n",
    "\n",
    "\tnp.random.shuffle( zipped)\n",
    "\n",
    "\t#\tseperate features\n",
    "\tshuffled_features = zipped[:,:-1].T\n",
    "\n",
    "\t#\tseperate targets\n",
    "\tshuffled_targets = zipped[:, -1:].reshape( len( targets))\n",
    "\t\n",
    "\treturn shuffled_features, shuffled_targets"
   ]
  },
  {
   "cell_type": "markdown",
   "metadata": {},
   "source": [
    "### Score\n",
    "> calculate the accuracy of prediction of Neuron"
   ]
  },
  {
   "cell_type": "code",
   "execution_count": 7,
   "metadata": {},
   "outputs": [],
   "source": [
    "def score( inputs, weights, targets):\n",
    "\t#\tprepare input\n",
    "\tinputs_with_bias = prepare( inputs)\n",
    "\n",
    "\t#\tcalculate output\n",
    "\tpred = output( inputs_with_bias, weights)\n",
    "\t#\tnon zero elements of vector resulting in subtracting desired response from calculated response\n",
    "\t#\tis the number of false prediction which the ratio of it with all of samples is error\n",
    "\t#\thence 1 - error is the accuracy score\n",
    "\treturn 1 - ( np.count_nonzero( pred - targets) / len( targets))"
   ]
  },
  {
   "cell_type": "markdown",
   "metadata": {},
   "source": [
    "### Train Network\n",
    "> batch or stochastic mode\n",
    "\n",
    "> hard limit transfer or identity as activation function"
   ]
  },
  {
   "cell_type": "code",
   "execution_count": 8,
   "metadata": {},
   "outputs": [],
   "source": [
    "#\tinputs must be of shape(_n_samples, _n_features)\n",
    "#\ttargets must be of shape(_n_samples,)\n",
    "#\tmode of training 0: batch, 1: stochastic\n",
    "#\tactivation function: 0: hardlim, 1: identity\n",
    "def fit( inputs, targets, max_epoch=10, eta=1, mode=0, early_stop=True, activation=0):\n",
    "\t_n_samples, _n_features = inputs.shape\n",
    "\n",
    "\t#\tadd bias to input vector\n",
    "\tinputs_with_bias = prepare( inputs)\n",
    "\t\n",
    "\t#\tgenerate random weights from uniform distribution over [0,1)\n",
    "\t#\tnumber of weights needed = number of features (variable) + 1 (for bias input)\n",
    "\tweights = np.random.rand( _n_features + 1)\n",
    "\n",
    "\terrors = []\n",
    "\n",
    "\tfor epoch in range( max_epoch):\n",
    "\t\t#\tcalculate accuracy for early stopping\n",
    "\t\taccuracy = score( inputs, weights, targets)\n",
    "\n",
    "\t\terrors.append( 1 - accuracy)\n",
    "\t\t#\tearly stop\n",
    "\t\tif accuracy == 1.0 and early_stop: break\n",
    "\n",
    "\t\tif mode == 0:\n",
    "\t\t\t#\tcalculate output for all inputs\n",
    "\t\t\tpred = output( inputs_with_bias, weights) if activation == 0 else combiner( inputs_with_bias, weights)\n",
    "\t\t\t\n",
    "\t\t\t#\tcalculate error\n",
    "\t\t\terror = targets - pred\n",
    "\n",
    "\t\t\t#\tupdate weigths\n",
    "\t\t\tweights += eta * np.dot( error, inputs_with_bias.T)\n",
    "\t\telse:\n",
    "\t\t\t#\tshuffle input vector\n",
    "\t\t\tshuffled_inputs, shuffled_targets = shuffle( inputs_with_bias, targets)\n",
    "\n",
    "\t\t\t#\titerate over each sample\n",
    "\t\t\tfor i in range( _n_samples):\n",
    "\t\t\t\t#\tcalculate outputs for single input\n",
    "\t\t\t\tpred = output( shuffled_inputs[:, i], weights) if activation == 0 else combiner( shuffled_inputs[:, i], weights)\n",
    "\t\t\t\t\n",
    "\t\t\t\t#\tcalculate error\n",
    "\t\t\t\terror = shuffled_targets[ i] - pred\n",
    "\t\t\t\t\n",
    "\t\t\t\t#\tupdate weights\n",
    "\t\t\t\tweights += eta * ( error * shuffled_inputs[:, i])\n",
    "\t\t\t\t\n",
    "\treturn weights, errors\n"
   ]
  },
  {
   "cell_type": "markdown",
   "metadata": {},
   "source": [
    "### Split\n",
    "> split the data into train and test set"
   ]
  },
  {
   "cell_type": "code",
   "execution_count": 9,
   "metadata": {},
   "outputs": [],
   "source": [
    "def split( features, targets, train_size=0.5):\n",
    "\tdata_size = len( features)\n",
    "\n",
    "\tfrag = int( train_size * data_size)\n",
    "\tzipped = np.concatenate( ( features, targets.values.reshape( ( len( targets), 1))), axis=1)\n",
    "\n",
    "\tnp.random.shuffle( zipped)\n",
    "\n",
    "\tX_train = zipped[:frag,:-1]\n",
    "\n",
    "\tX_test = zipped[ frag:,:-1]\n",
    "\n",
    "\ty_train = zipped[:frag, -1:]\n",
    "\ty_train = y_train.reshape( len( y_train))\n",
    "\n",
    "\ty_test = zipped[ frag:, -1:]\n",
    "\ty_test = y_test.reshape( ( len( y_test)))\n",
    "\n",
    "\treturn X_train, X_test, y_train, y_test"
   ]
  },
  {
   "cell_type": "markdown",
   "metadata": {},
   "source": [
    "###\tStandardization\n",
    "> standardize feature vector by subtracting mean and dividing by standard deviation"
   ]
  },
  {
   "cell_type": "code",
   "execution_count": 10,
   "metadata": {},
   "outputs": [],
   "source": [
    "def standardize( inputs):\n",
    "\tstd_input = np.copy( inputs).astype( \"float\")\n",
    "\t\n",
    "\tfor i in range( std_input.shape[ 1]):\n",
    "\t\tstd_input[:, i] = ( std_input[:, i] - std_input[:, i].mean()) / std_input[:, i].std()\n",
    "\n",
    "\treturn std_input"
   ]
  },
  {
   "cell_type": "markdown",
   "metadata": {},
   "source": [
    "### Drivers"
   ]
  },
  {
   "cell_type": "code",
   "execution_count": 11,
   "metadata": {},
   "outputs": [
    {
     "name": "stdout",
     "output_type": "stream",
     "text": [
      "Train Score Batch Mode with Hard Limit Activation Function: 1.0\n",
      "Test Score Batch Mode with Hard Limit Activation Function: 0.98\n",
      "Train Score Batch Mode with Identity Activation Function: 1.0\n",
      "Test Score Batch Mode with Identity Activation Function: 0.98\n",
      "Train Score Stochastic Mode with Hard Limit Activation Function: 1.0\n",
      "Test Score Stochastic Mode with Hard Limit Activation Function: 1.0\n",
      "Train Score Stochastic Mode Identity Activation Function: 1.0\n",
      "Test Score Stochastic Mode Identity Activation Function: 1.0\n"
     ]
    },
    {
     "data": {
      "image/png": "[encoded data removed]",
      "text/plain": [
       "<Figure size 864x720 with 1 Axes>"
      ]
     },
     "metadata": {
      "needs_background": "light"
     },
     "output_type": "display_data"
    }
   ],
   "source": [
    "dataset = pd.read_csv( \"iris.csv\")\n",
    "\n",
    "features = dataset.drop( \"class\", axis=1)\n",
    "targets = dataset[ \"class\"]\n",
    "\n",
    "standardized_features = standardize( features)\n",
    "\n",
    "X_train, X_test, y_train, y_test = split( standardized_features, targets)\n",
    "\n",
    "batch_weights_hardlim, batch_errors_hardlim = fit( X_train, y_train, mode=0, activation=0)\n",
    "print( f\"Train Score Batch Mode with Hard Limit Activation Function: { score( X_train, batch_weights_hardlim, y_train)}\")\n",
    "print( f\"Test Score Batch Mode with Hard Limit Activation Function: { score( X_test, batch_weights_hardlim, y_test)}\")\n",
    "\n",
    "batch_weights_identity, batch_errors_identity = fit( X_train, y_train, mode=0, activation=1)\n",
    "print( f\"Train Score Batch Mode with Identity Activation Function: { score( X_train, batch_weights_identity, y_train)}\")\n",
    "print( f\"Test Score Batch Mode with Identity Activation Function: { score( X_test, batch_weights_identity, y_test)}\")\n",
    "\n",
    "stochastic_weights_hardlim, stochastic_errors_hardlim = fit( X_train, y_train, mode=1, activation=0)\n",
    "print( f\"Train Score Stochastic Mode with Hard Limit Activation Function: { score( X_train, stochastic_weights_hardlim, y_train)}\")\n",
    "print( f\"Test Score Stochastic Mode with Hard Limit Activation Function: { score( X_test, stochastic_weights_hardlim, y_test)}\")\n",
    "\n",
    "stochastic_weights_identity, stochastic_errors_identity = fit( X_train, y_train, mode=1, activation=1)\n",
    "print( f\"Train Score Stochastic Mode Identity Activation Function: { score( X_train, stochastic_weights_identity, y_train)}\")\n",
    "print( f\"Test Score Stochastic Mode Identity Activation Function: { score( X_test, stochastic_weights_identity, y_test)}\")\n",
    "\n",
    "plt.figure( figsize=( 12, 10))\n",
    "plt.plot( batch_errors_hardlim, label=\"Batch Mode (Hard Limit)\")\n",
    "plt.plot( batch_errors_identity, label=\"Batch Mode (Identity)\")\n",
    "plt.plot( stochastic_errors_hardlim, label=\"Stochastic Mode (Hard Limit)\")\n",
    "plt.plot( stochastic_errors_identity, label=\"Stochastic Mode (Identity)\")\n",
    "plt.xlabel( \"Epochs\")\n",
    "plt.ylabel( \"Error\")\n",
    "plt.legend()\n",
    "plt.show()\n"
   ]
  }
 ],
 "metadata": {
  "kernelspec": {
   "display_name": "Python 3.7.3 ('base')",
   "language": "python",
   "name": "python3"
  },
  "language_info": {
   "codemirror_mode": {
    "name": "ipython",
    "version": 3
   },
   "file_extension": ".py",
   "mimetype": "text/x-python",
   "name": "python",
   "nbconvert_exporter": "python",
   "pygments_lexer": "ipython3",
   "version": "3.7.3"
  },
  "orig_nbformat": 4,
  "vscode": {
   "interpreter": {
    "hash": "ad2bdc8ecc057115af97d19610ffacc2b4e99fae6737bb82f5d7fb13d2f2c186"
   }
  }
 },
 "nbformat": 4,
 "nbformat_minor": 2
}
